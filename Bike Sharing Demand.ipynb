{
 "cells": [
  {
   "cell_type": "markdown",
   "id": "494a0e11",
   "metadata": {},
   "source": [
    "## Bike Sharing Demand"
   ]
  },
  {
   "cell_type": "code",
   "execution_count": 1,
   "id": "5cf1b6f5",
   "metadata": {},
   "outputs": [],
   "source": [
    "# Data Fields\n",
    "    #1.datetime - hourly date + timestamp  \n",
    "    #2.season -  \n",
    "        #1 = spring\n",
    "        #2 = summer\n",
    "        #3 = fall\n",
    "        #4 = winter \n",
    "    #3.holiday - whether the day is considered a holiday\n",
    "    #4.workingday - whether the day is neither a weekend nor holiday\n",
    "    #5.weather - \n",
    "        #1: Clear, Few clouds, Partly cloudy, Partly cloudy\n",
    "        #2: Mist + Cloudy, Mist + Broken clouds, Mist + Few clouds, Mist\n",
    "        #3: Light Snow, Light Rain + Thunderstorm + Scattered clouds, Light Rain + Scattered clouds\n",
    "        #4: Heavy Rain + Ice Pallets + Thunderstorm + Mist, Snow + Fog \n",
    "    #6.temp - temperature in Celsius\n",
    "    #7.atemp - \"feels like\" temperature in Celsius\n",
    "    #8.humidity - relative humidity\n",
    "    #9.windspeed - wind speed\n",
    "    #10.casual - number of non-registered user rentals initiated\n",
    "    #11.registered - number of registered user rentals initiated\n",
    "    #12.count - number of total rentals --(Target Feature/Column)\n",
    "    \n",
    "#####==========================================================================####\n",
    "## As we know we have 2 files for Bike Sharing Demand project\n",
    "  # 1.Train \n",
    "  # 2.Test\n",
    "\n",
    "# 1.So on train data we will train our model and using test data we will predict the output \n",
    "# 2.But for any preprocessing the data we will merge the train and test data "
   ]
  },
  {
   "cell_type": "code",
   "execution_count": 2,
   "id": "7014d63b",
   "metadata": {},
   "outputs": [],
   "source": [
    "## Import required packages/ library\n",
    "import pandas as pd\n",
    "import numpy as np\n",
    "import matplotlib.pyplot as plt\n",
    "%matplotlib inline\n",
    "import seaborn as sns\n",
    "import calendar\n",
    "from datetime import datetime \n",
    "import warnings\n",
    "warnings.filterwarnings(\"ignore\")"
   ]
  },
  {
   "cell_type": "markdown",
   "id": "e73b28da",
   "metadata": {},
   "source": [
    "#### Let's Load the data from train and test file "
   ]
  },
  {
   "cell_type": "code",
   "execution_count": 3,
   "id": "169be33d",
   "metadata": {},
   "outputs": [],
   "source": [
    "df_bsd_train = pd.read_csv(\"train.csv\")\n",
    "df_bsd_test = pd.read_csv(\"test.csv\")"
   ]
  },
  {
   "cell_type": "code",
   "execution_count": 4,
   "id": "f080584e",
   "metadata": {},
   "outputs": [],
   "source": [
    "pd.set_option(\"display.max_columns\",None)\n",
    "pd.set_option(\"display.max_rows\",None)"
   ]
  },
  {
   "cell_type": "code",
   "execution_count": 5,
   "id": "31eba6a6",
   "metadata": {},
   "outputs": [],
   "source": [
    "#Lets check whether the data loaded are not from train and test file"
   ]
  },
  {
   "cell_type": "code",
   "execution_count": 6,
   "id": "cd9829d5",
   "metadata": {},
   "outputs": [
    {
     "data": {
      "text/html": [
       "<div>\n",
       "<style scoped>\n",
       "    .dataframe tbody tr th:only-of-type {\n",
       "        vertical-align: middle;\n",
       "    }\n",
       "\n",
       "    .dataframe tbody tr th {\n",
       "        vertical-align: top;\n",
       "    }\n",
       "\n",
       "    .dataframe thead th {\n",
       "        text-align: right;\n",
       "    }\n",
       "</style>\n",
       "<table border=\"1\" class=\"dataframe\">\n",
       "  <thead>\n",
       "    <tr style=\"text-align: right;\">\n",
       "      <th></th>\n",
       "      <th>datetime</th>\n",
       "      <th>season</th>\n",
       "      <th>holiday</th>\n",
       "      <th>workingday</th>\n",
       "      <th>weather</th>\n",
       "      <th>temp</th>\n",
       "      <th>atemp</th>\n",
       "      <th>humidity</th>\n",
       "      <th>windspeed</th>\n",
       "      <th>casual</th>\n",
       "      <th>registered</th>\n",
       "      <th>count</th>\n",
       "    </tr>\n",
       "  </thead>\n",
       "  <tbody>\n",
       "    <tr>\n",
       "      <th>0</th>\n",
       "      <td>2011-01-01 00:00:00</td>\n",
       "      <td>1</td>\n",
       "      <td>0</td>\n",
       "      <td>0</td>\n",
       "      <td>1</td>\n",
       "      <td>9.84</td>\n",
       "      <td>14.395</td>\n",
       "      <td>81</td>\n",
       "      <td>0.0</td>\n",
       "      <td>3</td>\n",
       "      <td>13</td>\n",
       "      <td>16</td>\n",
       "    </tr>\n",
       "    <tr>\n",
       "      <th>1</th>\n",
       "      <td>2011-01-01 01:00:00</td>\n",
       "      <td>1</td>\n",
       "      <td>0</td>\n",
       "      <td>0</td>\n",
       "      <td>1</td>\n",
       "      <td>9.02</td>\n",
       "      <td>13.635</td>\n",
       "      <td>80</td>\n",
       "      <td>0.0</td>\n",
       "      <td>8</td>\n",
       "      <td>32</td>\n",
       "      <td>40</td>\n",
       "    </tr>\n",
       "    <tr>\n",
       "      <th>2</th>\n",
       "      <td>2011-01-01 02:00:00</td>\n",
       "      <td>1</td>\n",
       "      <td>0</td>\n",
       "      <td>0</td>\n",
       "      <td>1</td>\n",
       "      <td>9.02</td>\n",
       "      <td>13.635</td>\n",
       "      <td>80</td>\n",
       "      <td>0.0</td>\n",
       "      <td>5</td>\n",
       "      <td>27</td>\n",
       "      <td>32</td>\n",
       "    </tr>\n",
       "    <tr>\n",
       "      <th>3</th>\n",
       "      <td>2011-01-01 03:00:00</td>\n",
       "      <td>1</td>\n",
       "      <td>0</td>\n",
       "      <td>0</td>\n",
       "      <td>1</td>\n",
       "      <td>9.84</td>\n",
       "      <td>14.395</td>\n",
       "      <td>75</td>\n",
       "      <td>0.0</td>\n",
       "      <td>3</td>\n",
       "      <td>10</td>\n",
       "      <td>13</td>\n",
       "    </tr>\n",
       "    <tr>\n",
       "      <th>4</th>\n",
       "      <td>2011-01-01 04:00:00</td>\n",
       "      <td>1</td>\n",
       "      <td>0</td>\n",
       "      <td>0</td>\n",
       "      <td>1</td>\n",
       "      <td>9.84</td>\n",
       "      <td>14.395</td>\n",
       "      <td>75</td>\n",
       "      <td>0.0</td>\n",
       "      <td>0</td>\n",
       "      <td>1</td>\n",
       "      <td>1</td>\n",
       "    </tr>\n",
       "  </tbody>\n",
       "</table>\n",
       "</div>"
      ],
      "text/plain": [
       "              datetime  season  holiday  workingday  weather  temp   atemp  \\\n",
       "0  2011-01-01 00:00:00       1        0           0        1  9.84  14.395   \n",
       "1  2011-01-01 01:00:00       1        0           0        1  9.02  13.635   \n",
       "2  2011-01-01 02:00:00       1        0           0        1  9.02  13.635   \n",
       "3  2011-01-01 03:00:00       1        0           0        1  9.84  14.395   \n",
       "4  2011-01-01 04:00:00       1        0           0        1  9.84  14.395   \n",
       "\n",
       "   humidity  windspeed  casual  registered  count  \n",
       "0        81        0.0       3          13     16  \n",
       "1        80        0.0       8          32     40  \n",
       "2        80        0.0       5          27     32  \n",
       "3        75        0.0       3          10     13  \n",
       "4        75        0.0       0           1      1  "
      ]
     },
     "execution_count": 6,
     "metadata": {},
     "output_type": "execute_result"
    }
   ],
   "source": [
    "# From Train File \n",
    "# here we can see the data loaded successfully\n",
    "df_bsd_train.head()"
   ]
  },
  {
   "cell_type": "code",
   "execution_count": 7,
   "id": "608f90e2",
   "metadata": {},
   "outputs": [
    {
     "data": {
      "text/html": [
       "<div>\n",
       "<style scoped>\n",
       "    .dataframe tbody tr th:only-of-type {\n",
       "        vertical-align: middle;\n",
       "    }\n",
       "\n",
       "    .dataframe tbody tr th {\n",
       "        vertical-align: top;\n",
       "    }\n",
       "\n",
       "    .dataframe thead th {\n",
       "        text-align: right;\n",
       "    }\n",
       "</style>\n",
       "<table border=\"1\" class=\"dataframe\">\n",
       "  <thead>\n",
       "    <tr style=\"text-align: right;\">\n",
       "      <th></th>\n",
       "      <th>datetime</th>\n",
       "      <th>season</th>\n",
       "      <th>holiday</th>\n",
       "      <th>workingday</th>\n",
       "      <th>weather</th>\n",
       "      <th>temp</th>\n",
       "      <th>atemp</th>\n",
       "      <th>humidity</th>\n",
       "      <th>windspeed</th>\n",
       "    </tr>\n",
       "  </thead>\n",
       "  <tbody>\n",
       "    <tr>\n",
       "      <th>0</th>\n",
       "      <td>2011-01-20 00:00:00</td>\n",
       "      <td>1</td>\n",
       "      <td>0</td>\n",
       "      <td>1</td>\n",
       "      <td>1</td>\n",
       "      <td>10.66</td>\n",
       "      <td>11.365</td>\n",
       "      <td>56</td>\n",
       "      <td>26.0027</td>\n",
       "    </tr>\n",
       "    <tr>\n",
       "      <th>1</th>\n",
       "      <td>2011-01-20 01:00:00</td>\n",
       "      <td>1</td>\n",
       "      <td>0</td>\n",
       "      <td>1</td>\n",
       "      <td>1</td>\n",
       "      <td>10.66</td>\n",
       "      <td>13.635</td>\n",
       "      <td>56</td>\n",
       "      <td>0.0000</td>\n",
       "    </tr>\n",
       "    <tr>\n",
       "      <th>2</th>\n",
       "      <td>2011-01-20 02:00:00</td>\n",
       "      <td>1</td>\n",
       "      <td>0</td>\n",
       "      <td>1</td>\n",
       "      <td>1</td>\n",
       "      <td>10.66</td>\n",
       "      <td>13.635</td>\n",
       "      <td>56</td>\n",
       "      <td>0.0000</td>\n",
       "    </tr>\n",
       "    <tr>\n",
       "      <th>3</th>\n",
       "      <td>2011-01-20 03:00:00</td>\n",
       "      <td>1</td>\n",
       "      <td>0</td>\n",
       "      <td>1</td>\n",
       "      <td>1</td>\n",
       "      <td>10.66</td>\n",
       "      <td>12.880</td>\n",
       "      <td>56</td>\n",
       "      <td>11.0014</td>\n",
       "    </tr>\n",
       "    <tr>\n",
       "      <th>4</th>\n",
       "      <td>2011-01-20 04:00:00</td>\n",
       "      <td>1</td>\n",
       "      <td>0</td>\n",
       "      <td>1</td>\n",
       "      <td>1</td>\n",
       "      <td>10.66</td>\n",
       "      <td>12.880</td>\n",
       "      <td>56</td>\n",
       "      <td>11.0014</td>\n",
       "    </tr>\n",
       "  </tbody>\n",
       "</table>\n",
       "</div>"
      ],
      "text/plain": [
       "              datetime  season  holiday  workingday  weather   temp   atemp  \\\n",
       "0  2011-01-20 00:00:00       1        0           1        1  10.66  11.365   \n",
       "1  2011-01-20 01:00:00       1        0           1        1  10.66  13.635   \n",
       "2  2011-01-20 02:00:00       1        0           1        1  10.66  13.635   \n",
       "3  2011-01-20 03:00:00       1        0           1        1  10.66  12.880   \n",
       "4  2011-01-20 04:00:00       1        0           1        1  10.66  12.880   \n",
       "\n",
       "   humidity  windspeed  \n",
       "0        56    26.0027  \n",
       "1        56     0.0000  \n",
       "2        56     0.0000  \n",
       "3        56    11.0014  \n",
       "4        56    11.0014  "
      ]
     },
     "execution_count": 7,
     "metadata": {},
     "output_type": "execute_result"
    }
   ],
   "source": [
    "# From Test File \n",
    "# here we can see the data loaded successfully\n",
    "df_bsd_test.head()"
   ]
  },
  {
   "cell_type": "code",
   "execution_count": 8,
   "id": "062bf82f",
   "metadata": {},
   "outputs": [],
   "source": [
    "#Note :  \n",
    "   #1.Finally the data is load from both the file but in test file we dont't have \"casual\" and \"registered\". \n",
    "      #let's find out (in further steps) why these features are not available in test data may be they are not relevent features for model."
   ]
  },
  {
   "cell_type": "markdown",
   "id": "dafc799f",
   "metadata": {},
   "source": [
    "####  1.Check the info of the both the dataset's"
   ]
  },
  {
   "cell_type": "code",
   "execution_count": 9,
   "id": "09230ac3",
   "metadata": {},
   "outputs": [
    {
     "name": "stdout",
     "output_type": "stream",
     "text": [
      "<class 'pandas.core.frame.DataFrame'>\n",
      "RangeIndex: 10886 entries, 0 to 10885\n",
      "Data columns (total 12 columns):\n",
      " #   Column      Non-Null Count  Dtype  \n",
      "---  ------      --------------  -----  \n",
      " 0   datetime    10886 non-null  object \n",
      " 1   season      10886 non-null  int64  \n",
      " 2   holiday     10886 non-null  int64  \n",
      " 3   workingday  10886 non-null  int64  \n",
      " 4   weather     10886 non-null  int64  \n",
      " 5   temp        10886 non-null  float64\n",
      " 6   atemp       10886 non-null  float64\n",
      " 7   humidity    10886 non-null  int64  \n",
      " 8   windspeed   10886 non-null  float64\n",
      " 9   casual      10886 non-null  int64  \n",
      " 10  registered  10886 non-null  int64  \n",
      " 11  count       10886 non-null  int64  \n",
      "dtypes: float64(3), int64(8), object(1)\n",
      "memory usage: 1020.7+ KB\n"
     ]
    }
   ],
   "source": [
    "df_bsd_train.info()"
   ]
  },
  {
   "cell_type": "code",
   "execution_count": 10,
   "id": "9c1c05e7",
   "metadata": {},
   "outputs": [
    {
     "name": "stdout",
     "output_type": "stream",
     "text": [
      "<class 'pandas.core.frame.DataFrame'>\n",
      "RangeIndex: 6493 entries, 0 to 6492\n",
      "Data columns (total 9 columns):\n",
      " #   Column      Non-Null Count  Dtype  \n",
      "---  ------      --------------  -----  \n",
      " 0   datetime    6493 non-null   object \n",
      " 1   season      6493 non-null   int64  \n",
      " 2   holiday     6493 non-null   int64  \n",
      " 3   workingday  6493 non-null   int64  \n",
      " 4   weather     6493 non-null   int64  \n",
      " 5   temp        6493 non-null   float64\n",
      " 6   atemp       6493 non-null   float64\n",
      " 7   humidity    6493 non-null   int64  \n",
      " 8   windspeed   6493 non-null   float64\n",
      "dtypes: float64(3), int64(5), object(1)\n",
      "memory usage: 456.7+ KB\n"
     ]
    }
   ],
   "source": [
    "df_bsd_test.info()"
   ]
  },
  {
   "cell_type": "code",
   "execution_count": 11,
   "id": "eff750c6",
   "metadata": {},
   "outputs": [],
   "source": [
    "# Train dataset:\n",
    "\n",
    "#1. Here have total 10886 data points\n",
    "\n",
    "#2. We have 12 features/columns including our target/labeled column.\n",
    "\n",
    "#3. we have only datatime releated feature, default it's object type but we have to convert it into datatime format.\n",
    "\n",
    "#4. we can extract the date and time seperate from the \"datetime\" feature\n",
    "\n",
    "#5. out of 12 we have 11 Numeric datatype features and 1 datetime feature.\n",
    "\n",
    "#6.It looks like we dont have any missing values butwe have to check for NaN/Null values etc.\n",
    "\n",
    "#7.The Train dataset memory usage is 1020.7+ KB\n",
    "\n",
    "#################################################################\n",
    "#Note : Above obervation's are same applied to Test dataset also.\n",
    "#################################################################\n",
    "\n",
    "#7.Here is test dataset we have only 6493 data points.\n",
    "\n",
    "#8.In Test data we dont have few features/columns casual,registered count(Target - we definately will not expect in test data because this is out target feature/column)\n",
    "\n",
    "#9. the Test dataset memory usage is usage: 456.7+ KB\n"
   ]
  },
  {
   "cell_type": "code",
   "execution_count": 12,
   "id": "020900f1",
   "metadata": {},
   "outputs": [],
   "source": [
    "## Check for Null and Nan values"
   ]
  },
  {
   "cell_type": "code",
   "execution_count": 13,
   "id": "f9070278",
   "metadata": {},
   "outputs": [
    {
     "data": {
      "text/plain": [
       "datetime      0\n",
       "season        0\n",
       "holiday       0\n",
       "workingday    0\n",
       "weather       0\n",
       "temp          0\n",
       "atemp         0\n",
       "humidity      0\n",
       "windspeed     0\n",
       "casual        0\n",
       "registered    0\n",
       "count         0\n",
       "dtype: int64"
      ]
     },
     "execution_count": 13,
     "metadata": {},
     "output_type": "execute_result"
    }
   ],
   "source": [
    "df_bsd_train.isnull().sum()"
   ]
  },
  {
   "cell_type": "code",
   "execution_count": 14,
   "id": "39cd655c",
   "metadata": {},
   "outputs": [
    {
     "data": {
      "text/plain": [
       "datetime      0\n",
       "season        0\n",
       "holiday       0\n",
       "workingday    0\n",
       "weather       0\n",
       "temp          0\n",
       "atemp         0\n",
       "humidity      0\n",
       "windspeed     0\n",
       "dtype: int64"
      ]
     },
     "execution_count": 14,
     "metadata": {},
     "output_type": "execute_result"
    }
   ],
   "source": [
    "df_bsd_test.isna().sum()"
   ]
  },
  {
   "cell_type": "code",
   "execution_count": 15,
   "id": "05068577",
   "metadata": {},
   "outputs": [],
   "source": [
    "# Here we can see for both the dataset Train and Test neither we have any missing values nor Nan values."
   ]
  },
  {
   "cell_type": "markdown",
   "id": "be68644b",
   "metadata": {},
   "source": [
    "### Original Databack up\n",
    "\n",
    "###### Let's first take the copy or backup of original data (Train and Test)\n",
    "###### here we copy the data just incase in further process we need any thing from default  dataset then we can use it."
   ]
  },
  {
   "cell_type": "code",
   "execution_count": 16,
   "id": "364872d9",
   "metadata": {},
   "outputs": [],
   "source": [
    "df_O_train = df_bsd_train.copy()\n",
    "df_O_test = df_bsd_test.copy()"
   ]
  },
  {
   "cell_type": "code",
   "execution_count": 17,
   "id": "252aa6a5",
   "metadata": {},
   "outputs": [],
   "source": [
    "## Let's Convert the datatime feature data type from object to datetime datatype\n",
    "## so that later we can extract the date and time seperately\n",
    "## We will save the converted and save the values in same column i.e  \"datetime\""
   ]
  },
  {
   "cell_type": "code",
   "execution_count": 18,
   "id": "87e661f3",
   "metadata": {},
   "outputs": [
    {
     "data": {
      "text/html": [
       "<div>\n",
       "<style scoped>\n",
       "    .dataframe tbody tr th:only-of-type {\n",
       "        vertical-align: middle;\n",
       "    }\n",
       "\n",
       "    .dataframe tbody tr th {\n",
       "        vertical-align: top;\n",
       "    }\n",
       "\n",
       "    .dataframe thead th {\n",
       "        text-align: right;\n",
       "    }\n",
       "</style>\n",
       "<table border=\"1\" class=\"dataframe\">\n",
       "  <thead>\n",
       "    <tr style=\"text-align: right;\">\n",
       "      <th></th>\n",
       "      <th>datetime</th>\n",
       "      <th>season</th>\n",
       "      <th>holiday</th>\n",
       "      <th>workingday</th>\n",
       "      <th>weather</th>\n",
       "      <th>temp</th>\n",
       "      <th>atemp</th>\n",
       "      <th>humidity</th>\n",
       "      <th>windspeed</th>\n",
       "      <th>casual</th>\n",
       "      <th>registered</th>\n",
       "      <th>count</th>\n",
       "    </tr>\n",
       "  </thead>\n",
       "  <tbody>\n",
       "    <tr>\n",
       "      <th>0</th>\n",
       "      <td>2011-01-01 00:00:00</td>\n",
       "      <td>1</td>\n",
       "      <td>0</td>\n",
       "      <td>0</td>\n",
       "      <td>1</td>\n",
       "      <td>9.84</td>\n",
       "      <td>14.395</td>\n",
       "      <td>81</td>\n",
       "      <td>0.0</td>\n",
       "      <td>3</td>\n",
       "      <td>13</td>\n",
       "      <td>16</td>\n",
       "    </tr>\n",
       "    <tr>\n",
       "      <th>1</th>\n",
       "      <td>2011-01-01 01:00:00</td>\n",
       "      <td>1</td>\n",
       "      <td>0</td>\n",
       "      <td>0</td>\n",
       "      <td>1</td>\n",
       "      <td>9.02</td>\n",
       "      <td>13.635</td>\n",
       "      <td>80</td>\n",
       "      <td>0.0</td>\n",
       "      <td>8</td>\n",
       "      <td>32</td>\n",
       "      <td>40</td>\n",
       "    </tr>\n",
       "    <tr>\n",
       "      <th>2</th>\n",
       "      <td>2011-01-01 02:00:00</td>\n",
       "      <td>1</td>\n",
       "      <td>0</td>\n",
       "      <td>0</td>\n",
       "      <td>1</td>\n",
       "      <td>9.02</td>\n",
       "      <td>13.635</td>\n",
       "      <td>80</td>\n",
       "      <td>0.0</td>\n",
       "      <td>5</td>\n",
       "      <td>27</td>\n",
       "      <td>32</td>\n",
       "    </tr>\n",
       "    <tr>\n",
       "      <th>3</th>\n",
       "      <td>2011-01-01 03:00:00</td>\n",
       "      <td>1</td>\n",
       "      <td>0</td>\n",
       "      <td>0</td>\n",
       "      <td>1</td>\n",
       "      <td>9.84</td>\n",
       "      <td>14.395</td>\n",
       "      <td>75</td>\n",
       "      <td>0.0</td>\n",
       "      <td>3</td>\n",
       "      <td>10</td>\n",
       "      <td>13</td>\n",
       "    </tr>\n",
       "    <tr>\n",
       "      <th>4</th>\n",
       "      <td>2011-01-01 04:00:00</td>\n",
       "      <td>1</td>\n",
       "      <td>0</td>\n",
       "      <td>0</td>\n",
       "      <td>1</td>\n",
       "      <td>9.84</td>\n",
       "      <td>14.395</td>\n",
       "      <td>75</td>\n",
       "      <td>0.0</td>\n",
       "      <td>0</td>\n",
       "      <td>1</td>\n",
       "      <td>1</td>\n",
       "    </tr>\n",
       "  </tbody>\n",
       "</table>\n",
       "</div>"
      ],
      "text/plain": [
       "              datetime  season  holiday  workingday  weather  temp   atemp  \\\n",
       "0  2011-01-01 00:00:00       1        0           0        1  9.84  14.395   \n",
       "1  2011-01-01 01:00:00       1        0           0        1  9.02  13.635   \n",
       "2  2011-01-01 02:00:00       1        0           0        1  9.02  13.635   \n",
       "3  2011-01-01 03:00:00       1        0           0        1  9.84  14.395   \n",
       "4  2011-01-01 04:00:00       1        0           0        1  9.84  14.395   \n",
       "\n",
       "   humidity  windspeed  casual  registered  count  \n",
       "0        81        0.0       3          13     16  \n",
       "1        80        0.0       8          32     40  \n",
       "2        80        0.0       5          27     32  \n",
       "3        75        0.0       3          10     13  \n",
       "4        75        0.0       0           1      1  "
      ]
     },
     "execution_count": 18,
     "metadata": {},
     "output_type": "execute_result"
    }
   ],
   "source": [
    "df_bsd_train.head()"
   ]
  },
  {
   "cell_type": "code",
   "execution_count": 19,
   "id": "81cd79d9",
   "metadata": {},
   "outputs": [],
   "source": [
    "df_bsd_train['datetime'] = pd.to_datetime(df_bsd_train[\"datetime\"])"
   ]
  },
  {
   "cell_type": "code",
   "execution_count": 20,
   "id": "c41ceec2",
   "metadata": {},
   "outputs": [],
   "source": [
    "# Let's check the datatype of  \"datetime\" feature"
   ]
  },
  {
   "cell_type": "code",
   "execution_count": 21,
   "id": "e4d58e23",
   "metadata": {},
   "outputs": [
    {
     "name": "stdout",
     "output_type": "stream",
     "text": [
      "<class 'pandas.core.frame.DataFrame'>\n",
      "RangeIndex: 10886 entries, 0 to 10885\n",
      "Data columns (total 12 columns):\n",
      " #   Column      Non-Null Count  Dtype         \n",
      "---  ------      --------------  -----         \n",
      " 0   datetime    10886 non-null  datetime64[ns]\n",
      " 1   season      10886 non-null  int64         \n",
      " 2   holiday     10886 non-null  int64         \n",
      " 3   workingday  10886 non-null  int64         \n",
      " 4   weather     10886 non-null  int64         \n",
      " 5   temp        10886 non-null  float64       \n",
      " 6   atemp       10886 non-null  float64       \n",
      " 7   humidity    10886 non-null  int64         \n",
      " 8   windspeed   10886 non-null  float64       \n",
      " 9   casual      10886 non-null  int64         \n",
      " 10  registered  10886 non-null  int64         \n",
      " 11  count       10886 non-null  int64         \n",
      "dtypes: datetime64[ns](1), float64(3), int64(8)\n",
      "memory usage: 1020.7 KB\n"
     ]
    }
   ],
   "source": [
    "df_bsd_train.info()"
   ]
  },
  {
   "cell_type": "markdown",
   "id": "f50e62d4",
   "metadata": {},
   "source": [
    "#### Extract Date and time from \"datetime\" feature"
   ]
  },
  {
   "cell_type": "code",
   "execution_count": 22,
   "id": "a476bfca",
   "metadata": {},
   "outputs": [],
   "source": [
    "## Lets first extract the date and time and create new Feature \n",
    "   ## 1. date\n",
    "   ## 2.time \n",
    "   ## 3.Year\n",
    "   ## 4.Month"
   ]
  },
  {
   "cell_type": "code",
   "execution_count": 23,
   "id": "2f7d6045",
   "metadata": {},
   "outputs": [],
   "source": [
    "df_bsd_train[\"Year\"] =  df_bsd_train[\"datetime\"].dt.year\n",
    "df_bsd_train[\"Month_In_Number\"] = df_bsd_train[\"datetime\"].dt.month\n",
    "df_bsd_train[\"Date\"] =  df_bsd_train[\"datetime\"].dt.date\n",
    "df_bsd_train[\"Day\"] =  df_bsd_train[\"datetime\"].dt.day_name()\n",
    "df_bsd_train[\"Weeks\"] =  df_bsd_train[\"datetime\"].dt.dayofweek\n",
    "df_bsd_train[\"TimeIn_24_Hrs\"] =df_bsd_train[\"datetime\"].dt.time"
   ]
  },
  {
   "cell_type": "code",
   "execution_count": 24,
   "id": "cbef23c0",
   "metadata": {},
   "outputs": [],
   "source": [
    "df_bsd_train[\"Month_Title\"] =df_bsd_train[\"Month_In_Number\"].apply(lambda x : calendar.month_name[x])"
   ]
  },
  {
   "cell_type": "code",
   "execution_count": 25,
   "id": "9d1d1510",
   "metadata": {},
   "outputs": [],
   "source": [
    "timein12hrs=[]\n",
    "AM_time =[]\n",
    "PM_time =[]\n",
    "ampmdict= []\n",
    "def convert_time_into_12hr(data):\n",
    "    d = datetime.strptime(f\"{data}\", \"%H:%M:%S\")\n",
    "    timeampm = d.strftime(\"%I:%M %p\")\n",
    "    time = d.strftime(\"%I:%M\")\n",
    "    ampm= d.strftime(\"%p\")\n",
    "    timein12hrs.append(timeampm)\n",
    "    if ampm.lower() == \"am\":\n",
    "        AM_time.append(time)\n",
    "        PM_time.append(0)\n",
    "    else:\n",
    "        AM_time.append(0)\n",
    "        PM_time.append(time)\n",
    "        "
   ]
  },
  {
   "cell_type": "code",
   "execution_count": 26,
   "id": "56d21188",
   "metadata": {},
   "outputs": [],
   "source": [
    "for item in df_bsd_train[\"TimeIn_24_Hrs\"]:\n",
    "    convert_time_into_12hr(item)"
   ]
  },
  {
   "cell_type": "code",
   "execution_count": 27,
   "id": "376c65ac",
   "metadata": {},
   "outputs": [],
   "source": [
    "df_bsd_train[\"TimeIn12Hrs\"] =  timein12hrs\n",
    "df_bsd_train[\"TimeInAM\"] = AM_time\n",
    "df_bsd_train[\"TimeInPM\"] = PM_time"
   ]
  },
  {
   "cell_type": "code",
   "execution_count": 28,
   "id": "9dd8580e",
   "metadata": {},
   "outputs": [],
   "source": [
    "## As of now we extract every think we want from datetime feature incase in  further process any thing we have to extract from datetime (from original dataset) then we will definately do but now we can drop it from dataset"
   ]
  },
  {
   "cell_type": "markdown",
   "id": "eb62cf5e",
   "metadata": {},
   "source": [
    "#### Drop datetime feature"
   ]
  },
  {
   "cell_type": "code",
   "execution_count": 29,
   "id": "131c5b8a",
   "metadata": {},
   "outputs": [],
   "source": [
    "df_bsd_train.drop(columns=['datetime'],inplace=True)"
   ]
  },
  {
   "cell_type": "code",
   "execution_count": 30,
   "id": "34637505",
   "metadata": {},
   "outputs": [
    {
     "name": "stdout",
     "output_type": "stream",
     "text": [
      "<class 'pandas.core.frame.DataFrame'>\n",
      "RangeIndex: 10886 entries, 0 to 10885\n",
      "Data columns (total 21 columns):\n",
      " #   Column           Non-Null Count  Dtype  \n",
      "---  ------           --------------  -----  \n",
      " 0   season           10886 non-null  int64  \n",
      " 1   holiday          10886 non-null  int64  \n",
      " 2   workingday       10886 non-null  int64  \n",
      " 3   weather          10886 non-null  int64  \n",
      " 4   temp             10886 non-null  float64\n",
      " 5   atemp            10886 non-null  float64\n",
      " 6   humidity         10886 non-null  int64  \n",
      " 7   windspeed        10886 non-null  float64\n",
      " 8   casual           10886 non-null  int64  \n",
      " 9   registered       10886 non-null  int64  \n",
      " 10  count            10886 non-null  int64  \n",
      " 11  Year             10886 non-null  int64  \n",
      " 12  Month_In_Number  10886 non-null  int64  \n",
      " 13  Date             10886 non-null  object \n",
      " 14  Day              10886 non-null  object \n",
      " 15  Weeks            10886 non-null  int64  \n",
      " 16  TimeIn_24_Hrs    10886 non-null  object \n",
      " 17  Month_Title      10886 non-null  object \n",
      " 18  TimeIn12Hrs      10886 non-null  object \n",
      " 19  TimeInAM         10886 non-null  object \n",
      " 20  TimeInPM         10886 non-null  object \n",
      "dtypes: float64(3), int64(11), object(7)\n",
      "memory usage: 1.7+ MB\n"
     ]
    }
   ],
   "source": [
    "df_bsd_train.info()"
   ]
  },
  {
   "cell_type": "code",
   "execution_count": 31,
   "id": "376db76a",
   "metadata": {},
   "outputs": [],
   "source": [
    "#ChangedtypeTodatetime = ['TimeIn_24_Hrs','TimeIn12Hrs','TimeInAM','TimeInPM']"
   ]
  },
  {
   "cell_type": "code",
   "execution_count": 32,
   "id": "69a8cc86",
   "metadata": {},
   "outputs": [],
   "source": [
    "#pd.to_datetime(df_bsd_train['TimeIn12Hrs'])"
   ]
  },
  {
   "cell_type": "raw",
   "id": "cef9ca77",
   "metadata": {},
   "source": [
    "Note :\n",
    "1.As we can see now we have total 20 columns/features we have after extracting the date and time and other things and create new features based on the data extraction\n",
    "\n",
    "2.Now our data size incresed to 1.7 MB. Earlier is was in 1020.7 KB only.\n",
    "\n",
    "## New Features List\n",
    "1.Year : This Feature includes the year.Just to know how many years of data we have in current dataset.\n",
    "2.Month_In_Number : This Feature includes all the months.\n",
    "3.Date : This Feature includes all the short date.\n",
    "4.Day :This Feature includes all the days.\n",
    "5.Weeks:This Feature includes the weeks number based on the date feature.\n",
    "6.TimeIn_24_Hrs : This Feature includes time in 24 hours (Just for reference).\n",
    "7.TimeIn12Hrs : This Feature includes time in 12 hours (Just for reference).\n",
    "8.TimeInAM : Here we dump Noon time (12 Hr) based on this feature \"TimeIn12Hrs\".\n",
    "9.TimeInPM :  Here we dump Mid Night time (12 Hr) based on this feature \"TimeIn12Hrs\"."
   ]
  },
  {
   "cell_type": "markdown",
   "id": "e83ea38f",
   "metadata": {},
   "source": [
    "# Exploratory Data Analysis"
   ]
  },
  {
   "cell_type": "markdown",
   "id": "0f6948a2",
   "metadata": {},
   "source": [
    "### Univarient Analysis"
   ]
  },
  {
   "cell_type": "markdown",
   "id": "b1b5c002",
   "metadata": {},
   "source": [
    "### 1.Year"
   ]
  },
  {
   "cell_type": "code",
   "execution_count": 33,
   "id": "5f2e48a2",
   "metadata": {},
   "outputs": [
    {
     "data": {
      "text/plain": [
       "2012    0.501929\n",
       "2011    0.498071\n",
       "Name: Year, dtype: float64"
      ]
     },
     "execution_count": 33,
     "metadata": {},
     "output_type": "execute_result"
    }
   ],
   "source": [
    "df_bsd_train[\"Year\"].value_counts(normalize=True)"
   ]
  },
  {
   "cell_type": "raw",
   "id": "37134a96",
   "metadata": {},
   "source": [
    "1.Here we can see that we have 2 years of data i.e. 2011 and 2012\n",
    "2.As per the counts we cal clear say that the demand is raised in 2012 as compared to 2011. Yeah that demand raised by few numbers only.\n",
    "3.So we can say that the business will grow if the demands will get increase."
   ]
  },
  {
   "cell_type": "code",
   "execution_count": 34,
   "id": "b11fcc29",
   "metadata": {},
   "outputs": [
    {
     "data": {
      "image/png": "[encoded data removed]",
      "text/plain": [
       "<Figure size 432x360 with 1 Axes>"
      ]
     },
     "metadata": {
      "needs_background": "light"
     },
     "output_type": "display_data"
    }
   ],
   "source": [
    "data_year = pd.DataFrame(df_bsd_train[\"Year\"].value_counts(normalize=True).reset_index())\n",
    "plt.figure(figsize=(6,5))\n",
    "plt.subplot()\n",
    "plt.pie(data=data_year,x=\"Year\",autopct=\"%1.1f%%\",labels=\"index\",shadow=True,startangle=140,frame=True,colors=[\"gray\",\"red\"],rotatelabels=True)\n",
    "plt.axis(\"equal\")\n",
    "plt.savefig(\"EDA_img\\year.jpg\")\n",
    "plt.show()"
   ]
  },
  {
   "cell_type": "code",
   "execution_count": 35,
   "id": "fef1593e",
   "metadata": {},
   "outputs": [
    {
     "data": {
      "text/plain": [
       "<AxesSubplot:xlabel='Year', ylabel='Density'>"
      ]
     },
     "execution_count": 35,
     "metadata": {},
     "output_type": "execute_result"
    },
    {
     "data": {
      "image/png": "[encoded data removed]",
      "text/plain": [
       "<Figure size 432x288 with 1 Axes>"
      ]
     },
     "metadata": {
      "needs_background": "light"
     },
     "output_type": "display_data"
    }
   ],
   "source": [
    "sns.distplot(df_bsd_train['Year'],)"
   ]
  },
  {
   "cell_type": "markdown",
   "id": "8d83d682",
   "metadata": {},
   "source": [
    "### 2.Holiday\n"
   ]
  },
  {
   "cell_type": "code",
   "execution_count": 36,
   "id": "f3fb0a59",
   "metadata": {},
   "outputs": [],
   "source": [
    "year_2011 =  df_bsd_train['Year'] == 2011\n",
    "\n",
    "year_2012 =  df_bsd_train['Year'] == 2012\n",
    "\n",
    "df_month = df_bsd_train['Month_In_Number'] ==1 \n",
    "\n",
    "holiday_1 = df_bsd_train['holiday'] == 1\n",
    "\n",
    "holiday_0 = df_bsd_train['holiday'] == 0\n",
    "\n",
    "df_date_unique = df_bsd_train[\"Date\"].unique()"
   ]
  },
  {
   "cell_type": "code",
   "execution_count": 37,
   "id": "fbbbbe35",
   "metadata": {},
   "outputs": [],
   "source": [
    "df_bsd_train[\"TimeIn_24_Hrs\"] = df_bsd_train['TimeIn_24_Hrs'].apply(str).str.replace(',', '')\n",
    "df_bsd_train[\"Date\"] = df_bsd_train[\"Date\"].apply(str).str.replace(',', '')"
   ]
  },
  {
   "cell_type": "code",
   "execution_count": 38,
   "id": "390e9baf",
   "metadata": {},
   "outputs": [
    {
     "data": {
      "text/plain": [
       "221"
      ]
     },
     "execution_count": 38,
     "metadata": {},
     "output_type": "execute_result"
    }
   ],
   "source": [
    "len(df_bsd_train[year_2011 & holiday_1]['Date'].unique())\n",
    "len(df_bsd_train[year_2012 & holiday_1]['Date'].unique())\n",
    "len(df_bsd_train[year_2011 & holiday_0]['Date'].unique())\n",
    "len(df_bsd_train[year_2011]['Date'].unique())\n",
    "len(df_bsd_train[year_2012]['Date'].unique())\n",
    "len(df_bsd_train[year_2012 & holiday_0]['Date'].unique())"
   ]
  },
  {
   "cell_type": "code",
   "execution_count": 39,
   "id": "34914c81",
   "metadata": {},
   "outputs": [],
   "source": [
    "holidayIn2011_2012 = { \n",
    "    \"Year\" : [2011,2012], \n",
    "    'Total_Working_DaysIn_Year' : [len(df_bsd_train[year_2011]['Date'].unique()),len(df_bsd_train[year_2012]['Date'].unique())],\n",
    "    'Holidays_Count' : [len(df_bsd_train[year_2011 & holiday_1]['Date'].unique()), len(df_bsd_train[year_2012 & holiday_1]['Date'].unique())],\n",
    "    'Not_Holidays' : [len(df_bsd_train[year_2011 & holiday_0]['Date'].unique()), len(df_bsd_train[year_2012 & holiday_0]['Date'].unique())] \n",
    "}"
   ]
  },
  {
   "cell_type": "code",
   "execution_count": 40,
   "id": "8edf2ef4",
   "metadata": {},
   "outputs": [
    {
     "data": {
      "text/html": [
       "<div>\n",
       "<style scoped>\n",
       "    .dataframe tbody tr th:only-of-type {\n",
       "        vertical-align: middle;\n",
       "    }\n",
       "\n",
       "    .dataframe tbody tr th {\n",
       "        vertical-align: top;\n",
       "    }\n",
       "\n",
       "    .dataframe thead th {\n",
       "        text-align: right;\n",
       "    }\n",
       "</style>\n",
       "<table border=\"1\" class=\"dataframe\">\n",
       "  <thead>\n",
       "    <tr style=\"text-align: right;\">\n",
       "      <th></th>\n",
       "      <th>Year</th>\n",
       "      <th>Total_Working_DaysIn_Year</th>\n",
       "      <th>Holidays_Count</th>\n",
       "      <th>Not_Holidays</th>\n",
       "    </tr>\n",
       "  </thead>\n",
       "  <tbody>\n",
       "    <tr>\n",
       "      <th>0</th>\n",
       "      <td>2011</td>\n",
       "      <td>228</td>\n",
       "      <td>6</td>\n",
       "      <td>222</td>\n",
       "    </tr>\n",
       "    <tr>\n",
       "      <th>1</th>\n",
       "      <td>2012</td>\n",
       "      <td>228</td>\n",
       "      <td>7</td>\n",
       "      <td>221</td>\n",
       "    </tr>\n",
       "  </tbody>\n",
       "</table>\n",
       "</div>"
      ],
      "text/plain": [
       "   Year  Total_Working_DaysIn_Year  Holidays_Count  Not_Holidays\n",
       "0  2011                        228               6           222\n",
       "1  2012                        228               7           221"
      ]
     },
     "execution_count": 40,
     "metadata": {},
     "output_type": "execute_result"
    }
   ],
   "source": [
    "holidayIn2011_2012 = pd.DataFrame(holidayIn2011_2012)\n",
    "holidayIn2011_2012"
   ]
  },
  {
   "cell_type": "code",
   "execution_count": 41,
   "id": "fa5cffdb",
   "metadata": {},
   "outputs": [
    {
     "data": {
      "text/plain": [
       "<Figure size 3600x3600 with 0 Axes>"
      ]
     },
     "metadata": {},
     "output_type": "display_data"
    },
    {
     "data": {
      "image/png": "[encoded data removed]",
      "text/plain": [
       "<Figure size 432x288 with 1 Axes>"
      ]
     },
     "metadata": {
      "needs_background": "light"
     },
     "output_type": "display_data"
    }
   ],
   "source": [
    "plt.figure(figsize=(50,50))\n",
    "#plt.subplot(1,2,1)\n",
    "holidayIn2011_2012.plot(x=\"Year\", y =[\"Total_Working_DaysIn_Year\",'Holidays_Count','Not_Holidays'],kind=\"bar\")\n",
    "plt.ylabel(\"Year's\")\n",
    "plt.xlabel(\"Holiday\")\n",
    "plt.title(\"Holiday Distribution in year 2011 and 2012\")\n",
    "plt.legend()\n",
    "plt.savefig(\"EDA_img\\Holiday2011And2012.png\")\n",
    "plt.show()"
   ]
  },
  {
   "cell_type": "raw",
   "id": "f6fdb6d4",
   "metadata": {},
   "source": [
    "# From Holiday Feature we can say that,\n",
    "1.In every month we have only 19 working days. In year Employee work only 228 days in a year\n",
    "2.In above graph we can see that Total Working days,Holiday and Non-holiday counts in  2011 and 2012.\n",
    "3.In 2011 there are total 6 holidays and in 2012 there are 7 holidays.\n",
    "4.So if we consider the 7 holiday for year then 220 days employee work full time."
   ]
  },
  {
   "cell_type": "markdown",
   "id": "d696bf63",
   "metadata": {},
   "source": [
    "### 3.Working Days"
   ]
  },
  {
   "cell_type": "code",
   "execution_count": 42,
   "id": "2aea1859",
   "metadata": {},
   "outputs": [
    {
     "data": {
      "text/plain": [
       "1    7412\n",
       "0    3474\n",
       "Name: workingday, dtype: int64"
      ]
     },
     "execution_count": 42,
     "metadata": {},
     "output_type": "execute_result"
    }
   ],
   "source": [
    "df_bsd_train[\"workingday\"].value_counts()"
   ]
  },
  {
   "cell_type": "code",
   "execution_count": 43,
   "id": "146e64a6",
   "metadata": {},
   "outputs": [],
   "source": [
    "workingdays_0 = df_bsd_train[\"workingday\"] ==0\n",
    "workingdays_1 = df_bsd_train[\"workingday\"] ==1"
   ]
  },
  {
   "cell_type": "code",
   "execution_count": 44,
   "id": "f31723f4",
   "metadata": {},
   "outputs": [
    {
     "data": {
      "text/plain": [
       "<AxesSubplot:xlabel='workingday', ylabel='Density'>"
      ]
     },
     "execution_count": 44,
     "metadata": {},
     "output_type": "execute_result"
    },
    {
     "data": {
      "image/png": "[encoded data removed]",
      "text/plain": [
       "<Figure size 432x288 with 1 Axes>"
      ]
     },
     "metadata": {
      "needs_background": "light"
     },
     "output_type": "display_data"
    }
   ],
   "source": [
    "sns.distplot(df_bsd_train['workingday'])"
   ]
  },
  {
   "cell_type": "markdown",
   "id": "723c358d",
   "metadata": {},
   "source": [
    "### 4.Weather\n",
    "\n",
    "##### weather - \n",
    "    1: Clear, Few clouds, Partly cloudy, Partly cloudy\n",
    "    2: Mist + Cloudy, Mist + Broken clouds, Mist + Few clouds, Mist\n",
    "    3: Light Snow, Light Rain + Thunderstorm + Scattered clouds, Light Rain + Scattered clouds\n",
    "    4: Heavy Rain + Ice Pallets + Thunderstorm + Mist, Snow + Fog "
   ]
  },
  {
   "cell_type": "code",
   "execution_count": 45,
   "id": "45adc3b9",
   "metadata": {},
   "outputs": [
    {
     "data": {
      "text/plain": [
       "1    7192\n",
       "2    2834\n",
       "3     859\n",
       "4       1\n",
       "Name: weather, dtype: int64"
      ]
     },
     "execution_count": 45,
     "metadata": {},
     "output_type": "execute_result"
    }
   ],
   "source": [
    "df_bsd_train[\"weather\"].value_counts()"
   ]
  },
  {
   "cell_type": "code",
   "execution_count": 46,
   "id": "af681089",
   "metadata": {
    "scrolled": false
   },
   "outputs": [
    {
     "data": {
      "image/png": "[encoded data removed]",
      "text/plain": [
       "<Figure size 576x576 with 1 Axes>"
      ]
     },
     "metadata": {},
     "output_type": "display_data"
    }
   ],
   "source": [
    "plt.figure(figsize=(8,8))\n",
    "pd.DataFrame(df_bsd_train[\"weather\"].map({1 : \"Clear, Few clouds, Partly cloudy, Partly cloudy\",\n",
    "                             2 : \"Mist + Cloudy, Mist + Broken clouds, Mist + Few clouds, Mist\",\n",
    "                             3 : \"Light Snow, Light Rain + Thunderstorm + Scattered clouds, Light Rain + Scattered clouds\",\n",
    "                             4 : \"Heavy Rain + Ice Pallets + Thunderstorm + Mist, Snow + Fog\"})).value_counts(normalize=True).plot(kind=\"pie\",autopct=\"%2f\",explode=[0.1,0.1,0.1,0.1])\n",
    "plt.legend()\n",
    "plt.title(\"Weather Details\")\n",
    "plt.savefig(\"EDA_img\\WeatherInfo.png\")"
   ]
  },
  {
   "cell_type": "raw",
   "id": "cae2adbe",
   "metadata": {},
   "source": [
    "## Weather Feature Observation\n",
    "1. Here in weather, the weather are distrubuted in 4 categories i.e :\n",
    "   1: Clear, Few clouds, Partly cloudy, Partly cloudy\n",
    "   2: Mist + Cloudy, Mist + Broken clouds, Mist + Few clouds, Mist\n",
    "   3: Light Snow, Light Rain + Thunderstorm + Scattered clouds, Light Rain + Scattered clouds\n",
    "   4: Heavy Rain + Ice Pallets + Thunderstorm + Mist, Snow + Fog \n",
    "\n",
    "2.From the above observation most of the time in majority the weather was clear in last two years (66.06 %) i.e Clear, Few clouds, Partly cloudy, Partly cloudy \n",
    "\n",
    "3.Then Some time the weather was  Mist + Cloudy, Mist + Broken clouds, Mist + Few clouds, Mist.In average the distrubition was like 26.03%   \n",
    "\n",
    "4.The distribution of Light Snow, Light Rain + Thunderstorm + Scattered clouds, Light Rain + Scattered clouds this weather was 7.89 %\n",
    "\n",
    "3.Rarely the weather was bad (0.009%) here we can say it was like Heavy Rain + Ice Pallets + Thunderstorm + Mist, Snow + Fog.\n",
    "\n",
    "Demand Inference from Weather:\n",
    "\n",
    "1.May the when the weather was good then the demand of bike was good as per the expection beacause in bad weather nobody prefer to travel if in case any urgency people prefer  there personal car or cap instead of bike.\n",
    "\n",
    "2.Yeah absolutely the weather is also depends of the Season if there is Rain season then absolutely the weather will not too good.so that time also may be it will impact on demand."
   ]
  },
  {
   "cell_type": "code",
   "execution_count": 47,
   "id": "e1d4a38b",
   "metadata": {},
   "outputs": [
    {
     "data": {
      "text/plain": [
       "<AxesSubplot:xlabel='weather', ylabel='Density'>"
      ]
     },
     "execution_count": 47,
     "metadata": {},
     "output_type": "execute_result"
    },
    {
     "data": {
      "image/png": "[encoded data removed]",
      "text/plain": [
       "<Figure size 432x288 with 1 Axes>"
      ]
     },
     "metadata": {
      "needs_background": "light"
     },
     "output_type": "display_data"
    }
   ],
   "source": [
    "sns.distplot(df_bsd_train[\"weather\"])"
   ]
  },
  {
   "cell_type": "markdown",
   "id": "26915968",
   "metadata": {},
   "source": [
    "### 5.Temperature\n",
    "\n",
    "###### temp - temperature in Celsius"
   ]
  },
  {
   "cell_type": "code",
   "execution_count": 48,
   "id": "9a37fb90",
   "metadata": {},
   "outputs": [],
   "source": [
    "max_temp_2011 = max(df_bsd_train[year_2011]['temp'])\n",
    "min_temp_2011 = min(df_bsd_train[year_2011]['temp'])\n",
    "most_repeated_temp_2011 = df_bsd_train[year_2011]['temp'].mode()[0]\n",
    "\n",
    "##====================================================\n",
    "\n",
    "max_temp_2012 = max(df_bsd_train[year_2012]['temp'])\n",
    "min_temp_2012 = min(df_bsd_train[year_2012]['temp'])\n",
    "most_repeated_temp_2012 = df_bsd_train[year_2012]['temp'].mode()[0]"
   ]
  },
  {
   "cell_type": "code",
   "execution_count": 49,
   "id": "62570089",
   "metadata": {},
   "outputs": [
    {
     "data": {
      "text/plain": [
       "<Figure size 720x576 with 0 Axes>"
      ]
     },
     "metadata": {},
     "output_type": "display_data"
    },
    {
     "data": {
      "image/png": "[encoded data removed]",
      "text/plain": [
       "<Figure size 360x360 with 1 Axes>"
      ]
     },
     "metadata": {
      "needs_background": "light"
     },
     "output_type": "display_data"
    }
   ],
   "source": [
    "plt.figure(figsize=(10,8))\n",
    "sns.displot(df_bsd_train['temp'],color='red')\n",
    "plt.xlabel(\"Temperature\")\n",
    "plt.ylabel(\"Counts\")\n",
    "plt.title(\"Temperature Details in 2011 and 2012\")\n",
    "plt.savefig(\"temperatur.png\")\n",
    "plt.show()"
   ]
  },
  {
   "cell_type": "code",
   "execution_count": 50,
   "id": "354989fa",
   "metadata": {},
   "outputs": [
    {
     "data": {
      "text/plain": [
       "array(['July'], dtype=object)"
      ]
     },
     "execution_count": 50,
     "metadata": {},
     "output_type": "execute_result"
    }
   ],
   "source": [
    "df_bsd_train[df_bsd_train['temp'] == max_temp_2011]['Month_Title'].unique()\n",
    "df_bsd_train[df_bsd_train['temp'] == max_temp_2012]['Month_Title'].unique()"
   ]
  },
  {
   "cell_type": "code",
   "execution_count": 51,
   "id": "6eb0e188",
   "metadata": {},
   "outputs": [],
   "source": [
    "temperature_2011_2012 = {\n",
    "    \"Year\" : df_bsd_train['Year'].unique(),\n",
    "    \"Max_Temp\" : [max_temp_2011,max_temp_2012],\n",
    "    \"Min_Temp\" : [min_temp_2011,min_temp_2012],\n",
    "    \"Most_Repeated_Temp\" : [most_repeated_temp_2011,most_repeated_temp_2012]\n",
    "}"
   ]
  },
  {
   "cell_type": "code",
   "execution_count": 52,
   "id": "e2cd9195",
   "metadata": {},
   "outputs": [
    {
     "data": {
      "text/html": [
       "<div>\n",
       "<style scoped>\n",
       "    .dataframe tbody tr th:only-of-type {\n",
       "        vertical-align: middle;\n",
       "    }\n",
       "\n",
       "    .dataframe tbody tr th {\n",
       "        vertical-align: top;\n",
       "    }\n",
       "\n",
       "    .dataframe thead th {\n",
       "        text-align: right;\n",
       "    }\n",
       "</style>\n",
       "<table border=\"1\" class=\"dataframe\">\n",
       "  <thead>\n",
       "    <tr style=\"text-align: right;\">\n",
       "      <th></th>\n",
       "      <th>Year</th>\n",
       "      <th>Max_Temp</th>\n",
       "      <th>Min_Temp</th>\n",
       "      <th>Most_Repeated_Temp</th>\n",
       "    </tr>\n",
       "  </thead>\n",
       "  <tbody>\n",
       "    <tr>\n",
       "      <th>0</th>\n",
       "      <td>2011</td>\n",
       "      <td>38.54</td>\n",
       "      <td>2.46</td>\n",
       "      <td>18.86</td>\n",
       "    </tr>\n",
       "    <tr>\n",
       "      <th>1</th>\n",
       "      <td>2012</td>\n",
       "      <td>41.00</td>\n",
       "      <td>0.82</td>\n",
       "      <td>14.76</td>\n",
       "    </tr>\n",
       "  </tbody>\n",
       "</table>\n",
       "</div>"
      ],
      "text/plain": [
       "   Year  Max_Temp  Min_Temp  Most_Repeated_Temp\n",
       "0  2011     38.54      2.46               18.86\n",
       "1  2012     41.00      0.82               14.76"
      ]
     },
     "execution_count": 52,
     "metadata": {},
     "output_type": "execute_result"
    }
   ],
   "source": [
    "df_temp_2011_2012 = pd.DataFrame(temperature_2011_2012)\n",
    "df_temp_2011_2012"
   ]
  },
  {
   "cell_type": "code",
   "execution_count": 53,
   "id": "f3b2f1d9",
   "metadata": {},
   "outputs": [
    {
     "data": {
      "text/plain": [
       "<Figure size 2880x2880 with 0 Axes>"
      ]
     },
     "metadata": {},
     "output_type": "display_data"
    },
    {
     "data": {
      "image/png": "[encoded data removed]",
      "text/plain": [
       "<Figure size 432x288 with 1 Axes>"
      ]
     },
     "metadata": {
      "needs_background": "light"
     },
     "output_type": "display_data"
    }
   ],
   "source": [
    "plt.figure(figsize=(40,40))\n",
    "df_temp_2011_2012.plot(x=\"Year\",y=[\"Max_Temp\",\"Min_Temp\",\"Most_Repeated_Temp\"],kind=\"barh\")\n",
    "plt.title(\"Temperature in 2011 and 2012\")\n",
    "plt.ylabel(\"Year\")\n",
    "plt.xlabel(\"Temperature in Celsius\")\n",
    "plt.savefig(\"temperature2011_2012.png\")\n",
    "plt.show()"
   ]
  },
  {
   "cell_type": "raw",
   "id": "e1850d88",
   "metadata": {},
   "source": [
    "# Temperature Feature Observation\n",
    "1.Here we oberseve the temperature patter in both years 2011 and 2012\n",
    "2.In 2011 the Max. Temp is 38.54 , Min. Temp is 2.46 and Most Repeated Temp. in 18.86 . The temperature is in Celsius\n",
    "3.In 2012 the Max. Temp is 41.0 , Min. Temp is 0.82 and Most Repeated Temp. in 14.76 . The temperature is in Celsius"
   ]
  },
  {
   "cell_type": "code",
   "execution_count": 54,
   "id": "7cc13ab4",
   "metadata": {},
   "outputs": [
    {
     "data": {
      "text/plain": [
       "<AxesSubplot:xlabel='temp', ylabel='Density'>"
      ]
     },
     "execution_count": 54,
     "metadata": {},
     "output_type": "execute_result"
    },
    {
     "data": {
      "image/png": "[encoded data removed]",
      "text/plain": [
       "<Figure size 432x288 with 1 Axes>"
      ]
     },
     "metadata": {
      "needs_background": "light"
     },
     "output_type": "display_data"
    }
   ],
   "source": [
    "sns.distplot(df_bsd_train['temp'],hist=True)"
   ]
  },
  {
   "cell_type": "markdown",
   "id": "c7bcb371",
   "metadata": {},
   "source": [
    "## 6 .atemp"
   ]
  },
  {
   "cell_type": "code",
   "execution_count": 55,
   "id": "3d5381e6",
   "metadata": {},
   "outputs": [
    {
     "data": {
      "text/plain": [
       "<AxesSubplot:xlabel='atemp', ylabel='Density'>"
      ]
     },
     "execution_count": 55,
     "metadata": {},
     "output_type": "execute_result"
    },
    {
     "data": {
      "image/png": "[encoded data removed]",
      "text/plain": [
       "<Figure size 864x720 with 2 Axes>"
      ]
     },
     "metadata": {
      "needs_background": "light"
     },
     "output_type": "display_data"
    }
   ],
   "source": [
    "plt.figure(figsize=(12,10))\n",
    "plt.subplot(2,2,1)\n",
    "sns.histplot(df_bsd_train['atemp'])\n",
    "\n",
    "plt.subplot(2,2,2)\n",
    "sns.distplot(df_bsd_train['atemp'],hist=True)\n"
   ]
  },
  {
   "cell_type": "markdown",
   "id": "6c4760fd",
   "metadata": {},
   "source": [
    "# 7.Humidity"
   ]
  },
  {
   "cell_type": "code",
   "execution_count": 56,
   "id": "32e39665",
   "metadata": {},
   "outputs": [],
   "source": [
    "max_humidity_2011 = max(df_bsd_train[year_2011]['humidity'])\n",
    "min_humidity_2011 = min(df_bsd_train[year_2011]['humidity'])\n",
    "most_repeated_humidity_2011 = df_bsd_train[year_2011]['humidity'].mode()[0]\n",
    "\n",
    "##====================================================\n",
    "\n",
    "max_humidity_2012 = max(df_bsd_train[year_2012]['humidity'])\n",
    "min_humidity_2012 = min(df_bsd_train[year_2012]['humidity'])\n",
    "most_repeated_humidity_2012 = df_bsd_train[year_2012]['humidity'].mode()[0]"
   ]
  },
  {
   "cell_type": "code",
   "execution_count": 57,
   "id": "921fb0cb",
   "metadata": {},
   "outputs": [],
   "source": [
    "Humidity_2011_2012 = {\n",
    "    \"Year\" : df_bsd_train['Year'].unique(),\n",
    "    \"Max_Humidity\" : [max_humidity_2011,max_humidity_2012],\n",
    "    \"Min_Humidity\" : [min_humidity_2011,min_humidity_2012],\n",
    "    \"Most_Repeated_Humidity\" : [most_repeated_humidity_2011,most_repeated_humidity_2012]\n",
    "}"
   ]
  },
  {
   "cell_type": "code",
   "execution_count": 58,
   "id": "c99d1142",
   "metadata": {},
   "outputs": [
    {
     "data": {
      "text/html": [
       "<div>\n",
       "<style scoped>\n",
       "    .dataframe tbody tr th:only-of-type {\n",
       "        vertical-align: middle;\n",
       "    }\n",
       "\n",
       "    .dataframe tbody tr th {\n",
       "        vertical-align: top;\n",
       "    }\n",
       "\n",
       "    .dataframe thead th {\n",
       "        text-align: right;\n",
       "    }\n",
       "</style>\n",
       "<table border=\"1\" class=\"dataframe\">\n",
       "  <thead>\n",
       "    <tr style=\"text-align: right;\">\n",
       "      <th></th>\n",
       "      <th>Year</th>\n",
       "      <th>Max_Humidity</th>\n",
       "      <th>Min_Humidity</th>\n",
       "      <th>Most_Repeated_Humidity</th>\n",
       "    </tr>\n",
       "  </thead>\n",
       "  <tbody>\n",
       "    <tr>\n",
       "      <th>0</th>\n",
       "      <td>2011</td>\n",
       "      <td>100</td>\n",
       "      <td>0</td>\n",
       "      <td>94</td>\n",
       "    </tr>\n",
       "    <tr>\n",
       "      <th>1</th>\n",
       "      <td>2012</td>\n",
       "      <td>100</td>\n",
       "      <td>16</td>\n",
       "      <td>88</td>\n",
       "    </tr>\n",
       "  </tbody>\n",
       "</table>\n",
       "</div>"
      ],
      "text/plain": [
       "   Year  Max_Humidity  Min_Humidity  Most_Repeated_Humidity\n",
       "0  2011           100             0                      94\n",
       "1  2012           100            16                      88"
      ]
     },
     "execution_count": 58,
     "metadata": {},
     "output_type": "execute_result"
    }
   ],
   "source": [
    "Humidity_2011_2012 = pd.DataFrame(Humidity_2011_2012)\n",
    "Humidity_2011_2012"
   ]
  },
  {
   "cell_type": "code",
   "execution_count": 59,
   "id": "8ea8458f",
   "metadata": {},
   "outputs": [
    {
     "data": {
      "image/png": "[encoded data removed]",
      "text/plain": [
       "<Figure size 1800x1296 with 4 Axes>"
      ]
     },
     "metadata": {
      "needs_background": "light"
     },
     "output_type": "display_data"
    }
   ],
   "source": [
    "fig, axarr = plt.subplots(2, 2, figsize=(25, 18))\n",
    "sns.histplot(df_bsd_train['humidity'],color=\"#3a923a\",ax=axarr[0][0])\n",
    "\n",
    "sns.distplot(df_bsd_train['humidity'],color=\"#e1812c\",ax=axarr[0][1])\n",
    "\n",
    "sns.boxplot(df_bsd_train['humidity'],color=\"#e91e63\",ax=axarr[1][0])\n",
    "\n",
    "Humidity_2011_2012.plot(x=\"Year\",y=[\"Max_Humidity\",\"Min_Humidity\",\"Most_Repeated_Humidity\"],kind=\"bar\",ax=axarr[1][1])\n",
    "\n",
    "plt.savefig(\"EDA_img\\humidity20112012.png\")\n"
   ]
  },
  {
   "cell_type": "code",
   "execution_count": 60,
   "id": "37879e5a",
   "metadata": {},
   "outputs": [],
   "source": [
    "## Humidity Feature Observation\n",
    "  # 1.Here we can see the distrubution of humidity in 2 years i.e 2011 and 2012\n",
    "  # 2.The distribution of humidity is not normally distributed it is tilt on right hand side and again in distribution curve we can see the min. value for humidity may be that is outlier.\n",
    "  # 3.In box we can easily see that there is an outlier in lower limit \n",
    "  # 4.Again we can check the humidity level in both the year's . i.e 2011 and 2012\n",
    "      # 1.In 2011 the max. humidity goes up to 100 , then Min is 0 (Zero) and them Most of the time the humidity is 94.\n",
    "      # 2.In 2012 the max. humidity goes up to 100 , then Min is 16 and them Most of the time the humidity is 88."
   ]
  },
  {
   "cell_type": "markdown",
   "id": "5e7ea3d7",
   "metadata": {},
   "source": [
    "## 8.windspeed"
   ]
  },
  {
   "cell_type": "code",
   "execution_count": 61,
   "id": "e1b84588",
   "metadata": {},
   "outputs": [],
   "source": [
    "max_windspeed_2011 = max(df_bsd_train[year_2011]['windspeed'])\n",
    "min_windspeed_2011 = min(df_bsd_train[year_2011]['windspeed'])\n",
    "most_repeated_windspeed_2011 = df_bsd_train[year_2011]['windspeed'].mode()[0]\n",
    "\n",
    "##====================================================\n",
    "\n",
    "max_windspeed_2012 = max(df_bsd_train[year_2012]['windspeed'])\n",
    "min_windspeed_2012 = min(df_bsd_train[year_2012]['windspeed'])\n",
    "most_repeated_windspeed_2012 = df_bsd_train[year_2012]['windspeed'].mode()[0]"
   ]
  },
  {
   "cell_type": "code",
   "execution_count": 67,
   "id": "0f989b31",
   "metadata": {},
   "outputs": [],
   "source": [
    "Windspeed_2011_2012 = {\n",
    "    \"Year\" : df_bsd_train['Year'].unique(),\n",
    "    \"Max_Windspeed\" : [max_windspeed_2011,max_windspeed_2012],\n",
    "    \"Min_Windspeed\" : [min_windspeed_2011,min_windspeed_2012],\n",
    "    \"Most_Repeated_Windspeed\" : [most_repeated_windspeed_2011,most_repeated_windspeed_2012]\n",
    "}"
   ]
  },
  {
   "cell_type": "code",
   "execution_count": 68,
   "id": "809afbfe",
   "metadata": {},
   "outputs": [
    {
     "data": {
      "text/html": [
       "<div>\n",
       "<style scoped>\n",
       "    .dataframe tbody tr th:only-of-type {\n",
       "        vertical-align: middle;\n",
       "    }\n",
       "\n",
       "    .dataframe tbody tr th {\n",
       "        vertical-align: top;\n",
       "    }\n",
       "\n",
       "    .dataframe thead th {\n",
       "        text-align: right;\n",
       "    }\n",
       "</style>\n",
       "<table border=\"1\" class=\"dataframe\">\n",
       "  <thead>\n",
       "    <tr style=\"text-align: right;\">\n",
       "      <th></th>\n",
       "      <th>Year</th>\n",
       "      <th>Max_Windspeed</th>\n",
       "      <th>Min_Windspeed</th>\n",
       "      <th>Most_Repeated_Windspeed</th>\n",
       "    </tr>\n",
       "  </thead>\n",
       "  <tbody>\n",
       "    <tr>\n",
       "      <th>0</th>\n",
       "      <td>2011</td>\n",
       "      <td>56.9969</td>\n",
       "      <td>0.0</td>\n",
       "      <td>0.0</td>\n",
       "    </tr>\n",
       "    <tr>\n",
       "      <th>1</th>\n",
       "      <td>2012</td>\n",
       "      <td>47.9988</td>\n",
       "      <td>0.0</td>\n",
       "      <td>0.0</td>\n",
       "    </tr>\n",
       "  </tbody>\n",
       "</table>\n",
       "</div>"
      ],
      "text/plain": [
       "   Year  Max_Windspeed  Min_Windspeed  Most_Repeated_Windspeed\n",
       "0  2011        56.9969            0.0                      0.0\n",
       "1  2012        47.9988            0.0                      0.0"
      ]
     },
     "execution_count": 68,
     "metadata": {},
     "output_type": "execute_result"
    }
   ],
   "source": [
    "Windspeed_2011_2012 = pd.DataFrame(Windspeed_2011_2012)\n",
    "Windspeed_2011_2012"
   ]
  },
  {
   "cell_type": "code",
   "execution_count": 73,
   "id": "b8d363da",
   "metadata": {},
   "outputs": [
    {
     "data": {
      "image/png": "[encoded data removed]",
      "text/plain": [
       "<Figure size 1800x1296 with 4 Axes>"
      ]
     },
     "metadata": {
      "needs_background": "light"
     },
     "output_type": "display_data"
    }
   ],
   "source": [
    "fig, axarr = plt.subplots(2, 2, figsize=(25, 18))\n",
    "sns.histplot(df_bsd_train['windspeed'],color=\"#3a923a\",ax=axarr[0][0])\n",
    "\n",
    "sns.distplot(df_bsd_train['windspeed'],color=\"#e1812c\",ax=axarr[0][1])\n",
    "\n",
    "sns.boxplot(df_bsd_train['windspeed'],color=\"#e91e63\",ax=axarr[1][0])\n",
    "\n",
    "Windspeed_2011_2012.plot(x=\"Year\",y=[\"Max_Windspeed\",\"Min_Windspeed\",\"Most_Repeated_Windspeed\"],kind=\"bar\",ax=axarr[1][1])\n",
    "\n",
    "plt.savefig(\"EDA_img\\windspeed20112012.png\")\n"
   ]
  },
  {
   "cell_type": "markdown",
   "id": "9737c109",
   "metadata": {},
   "source": [
    "## 9.Season"
   ]
  },
  {
   "cell_type": "code",
   "execution_count": 74,
   "id": "037a7769",
   "metadata": {},
   "outputs": [
    {
     "data": {
      "text/plain": [
       "4    2734\n",
       "2    2733\n",
       "3    2733\n",
       "1    2686\n",
       "Name: season, dtype: int64"
      ]
     },
     "execution_count": 74,
     "metadata": {},
     "output_type": "execute_result"
    }
   ],
   "source": [
    "df_bsd_train[\"season\"].value_counts()"
   ]
  },
  {
   "cell_type": "code",
   "execution_count": 75,
   "id": "9274794c",
   "metadata": {},
   "outputs": [],
   "source": [
    "df_bsd_train[\"Season_Title\"]= pd.DataFrame(df_bsd_train.season.map({1: \"Spring\", 2 : \"Summer\", 3 : \"Fall\", 4 :\"Winter\" }))"
   ]
  },
  {
   "cell_type": "code",
   "execution_count": 76,
   "id": "06b3134e",
   "metadata": {},
   "outputs": [
    {
     "data": {
      "text/plain": [
       "<Figure size 1440x1152 with 0 Axes>"
      ]
     },
     "metadata": {},
     "output_type": "display_data"
    },
    {
     "data": {
      "image/png": "[encoded data removed]",
      "text/plain": [
       "<Figure size 540x360 with 1 Axes>"
      ]
     },
     "metadata": {
      "needs_background": "light"
     },
     "output_type": "display_data"
    }
   ],
   "source": [
    "plt.figure(figsize=(20,16))\n",
    "sns.factorplot(x ='Season_Title',data=df_bsd_train,kind=\"count\",size=5,aspect=1.5)\n",
    "plt.xlabel(\"Season\")\n",
    "plt.ylabel(\"Counts\")\n",
    "plt.title(\"Season\")\n",
    "plt.savefig(\"EDA_img\\season.jpg\")"
   ]
  },
  {
   "cell_type": "raw",
   "id": "f902a154",
   "metadata": {},
   "source": [
    "# WE all know that we have only 4 season i.e Spring, Summer,Fall,Winter ()\n",
    "1.From above bar graph we can see the demand is always high in only 3 seasion's i.e Summer,Fall,Winter\n",
    "2.In Spring season the demand quite down/low.\n",
    "3.So we can conclude based on Season we have to maintain the availability of the bike in that 2 season's"
   ]
  },
  {
   "cell_type": "code",
   "execution_count": 66,
   "id": "931cc6f4",
   "metadata": {},
   "outputs": [],
   "source": [
    "#sns.barplot(data=df_bsd_train,x=df_bsd_train['season'],y=df_bsd_train['count'])"
   ]
  },
  {
   "cell_type": "code",
   "execution_count": null,
   "id": "3cb839e0",
   "metadata": {},
   "outputs": [],
   "source": []
  },
  {
   "cell_type": "code",
   "execution_count": null,
   "id": "23c82dc0",
   "metadata": {},
   "outputs": [],
   "source": []
  },
  {
   "cell_type": "code",
   "execution_count": null,
   "id": "3dd657fe",
   "metadata": {},
   "outputs": [],
   "source": []
  },
  {
   "cell_type": "code",
   "execution_count": null,
   "id": "fd3d35e2",
   "metadata": {},
   "outputs": [],
   "source": []
  },
  {
   "cell_type": "code",
   "execution_count": null,
   "id": "1b7afc9a",
   "metadata": {},
   "outputs": [],
   "source": []
  },
  {
   "cell_type": "code",
   "execution_count": null,
   "id": "d20cd15f",
   "metadata": {},
   "outputs": [],
   "source": []
  },
  {
   "cell_type": "code",
   "execution_count": null,
   "id": "da45ac4b",
   "metadata": {},
   "outputs": [],
   "source": []
  },
  {
   "cell_type": "code",
   "execution_count": null,
   "id": "f199f249",
   "metadata": {},
   "outputs": [],
   "source": []
  },
  {
   "cell_type": "code",
   "execution_count": null,
   "id": "63d68bad",
   "metadata": {},
   "outputs": [],
   "source": []
  },
  {
   "cell_type": "code",
   "execution_count": null,
   "id": "3eb7f7d7",
   "metadata": {},
   "outputs": [],
   "source": []
  },
  {
   "cell_type": "code",
   "execution_count": null,
   "id": "68cf2cd9",
   "metadata": {},
   "outputs": [],
   "source": []
  },
  {
   "cell_type": "code",
   "execution_count": null,
   "id": "030c13eb",
   "metadata": {},
   "outputs": [],
   "source": []
  },
  {
   "cell_type": "code",
   "execution_count": null,
   "id": "c7baadc6",
   "metadata": {},
   "outputs": [],
   "source": []
  },
  {
   "cell_type": "code",
   "execution_count": null,
   "id": "1c6850a6",
   "metadata": {},
   "outputs": [],
   "source": []
  },
  {
   "cell_type": "code",
   "execution_count": null,
   "id": "49c8f748",
   "metadata": {},
   "outputs": [],
   "source": []
  },
  {
   "cell_type": "code",
   "execution_count": null,
   "id": "d025808a",
   "metadata": {},
   "outputs": [],
   "source": []
  },
  {
   "cell_type": "code",
   "execution_count": null,
   "id": "1c0128d4",
   "metadata": {},
   "outputs": [],
   "source": []
  },
  {
   "cell_type": "code",
   "execution_count": null,
   "id": "86a0aa82",
   "metadata": {},
   "outputs": [],
   "source": []
  }
 ],
 "metadata": {
  "kernelspec": {
   "display_name": "Python 3 (ipykernel)",
   "language": "python",
   "name": "python3"
  },
  "language_info": {
   "codemirror_mode": {
    "name": "ipython",
    "version": 3
   },
   "file_extension": ".py",
   "mimetype": "text/x-python",
   "name": "python",
   "nbconvert_exporter": "python",
   "pygments_lexer": "ipython3",
   "version": "3.9.7"
  }
 },
 "nbformat": 4,
 "nbformat_minor": 5
}
